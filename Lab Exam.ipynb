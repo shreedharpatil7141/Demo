{
 "cells": [
  {
   "cell_type": "code",
   "execution_count": 1,
   "metadata": {},
   "outputs": [
    {
     "name": "stdout",
     "output_type": "stream",
     "text": [
      "2004 is a leap year.\n"
     ]
    }
   ],
   "source": [
    "year = int(input(\"Enter a year: \"))\n",
    "\n",
    "if (year % 4 == 0 and year % 100 != 0) or (year % 400 == 0):\n",
    "    print(f\"{year} is a leap year.\")\n",
    "else:\n",
    "    print(f\"{year} is not a leap year.\")\n"
   ]
  },
  {
   "cell_type": "code",
   "execution_count": 5,
   "metadata": {},
   "outputs": [
    {
     "name": "stdout",
     "output_type": "stream",
     "text": [
      "Not leap year\n"
     ]
    }
   ],
   "source": [
    "year=int(input(\"enter year\"))\n",
    "if (year %4 == 0 ):\n",
    "    print(\"Leap year\")\n",
    "else:\n",
    "    print(\"Not leap year\")"
   ]
  },
  {
   "cell_type": "code",
   "execution_count": 7,
   "metadata": {},
   "outputs": [
    {
     "name": "stdout",
     "output_type": "stream",
     "text": [
      "Grade B\n"
     ]
    }
   ],
   "source": [
    "marks=int(input(\"Enter marks\"))\n",
    "if(marks>80):\n",
    "    print(\"Grade A\")\n",
    "elif(marks>60 and marks<80):\n",
    "    print(\"Grade B\")\n",
    "else:\n",
    "    print(\"Grade c\")"
   ]
  },
  {
   "cell_type": "code",
   "execution_count": 15,
   "metadata": {},
   "outputs": [
    {
     "ename": "SyntaxError",
     "evalue": "invalid syntax. Perhaps you forgot a comma? (887502175.py, line 1)",
     "output_type": "error",
     "traceback": [
      "  \u001b[36mCell\u001b[39m\u001b[36m \u001b[39m\u001b[32mIn[15]\u001b[39m\u001b[32m, line 1\u001b[39m\n\u001b[31m    \u001b[39m\u001b[31mlst=int(list(input[])):\u001b[39m\n                 ^\n\u001b[31mSyntaxError\u001b[39m\u001b[31m:\u001b[39m invalid syntax. Perhaps you forgot a comma?\n"
     ]
    }
   ],
   "source": [
    "\n",
    "lst=int(list(input[])):\n",
    "lst[i],lst[j]=lst[j],lst[i]\n",
    "print(lst)\n"
   ]
  },
  {
   "cell_type": "code",
   "execution_count": 1,
   "metadata": {},
   "outputs": [
    {
     "name": "stdout",
     "output_type": "stream",
     "text": [
      "45\n"
     ]
    }
   ],
   "source": [
    "num=int(input())\n",
    "absolute_value=abs(num)\n",
    "print(absolute_value)\n"
   ]
  },
  {
   "cell_type": "code",
   "execution_count": 6,
   "metadata": {},
   "outputs": [
    {
     "name": "stdout",
     "output_type": "stream",
     "text": [
      "apple\n",
      "banana\n",
      "cherry\n"
     ]
    }
   ],
   "source": [
    "dict={\n",
    "    \"banana\":3,\n",
    "    \"apple\":2,\n",
    "    \"cherry\":1\n",
    "}\n",
    "for key in sorted(dict.keys()):\n",
    "     print(key)"
   ]
  },
  {
   "cell_type": "code",
   "execution_count": 8,
   "metadata": {},
   "outputs": [
    {
     "name": "stdout",
     "output_type": "stream",
     "text": [
      "Generated dictionary: {1: 1, 2: 4, 3: 9, 4: 16, 5: 25}\n"
     ]
    }
   ],
   "source": [
    "# Get input from user\n",
    "n = int(input(\"Enter the value of n: \"))\n",
    "\n",
    "# Generate dictionary\n",
    "squares_dict = {i: i*i for i in range(1, n+1)}\n",
    "\n",
    "# Print the result\n",
    "print(\"Generated dictionary:\", squares_dict)\n",
    "\n",
    "\n"
   ]
  },
  {
   "cell_type": "code",
   "execution_count": 1,
   "metadata": {},
   "outputs": [
    {
     "name": "stdout",
     "output_type": "stream",
     "text": [
      "{1: 1, 2: 4, 3: 9, 4: 16}\n"
     ]
    }
   ],
   "source": [
    "n=int(input(\"enter number\"))\n",
    "dict={i:i*i for i in range(1,n+1)}\n",
    "print(dict)"
   ]
  },
  {
   "cell_type": "code",
   "execution_count": 4,
   "metadata": {},
   "outputs": [
    {
     "name": "stdout",
     "output_type": "stream",
     "text": [
      "10000.0\n"
     ]
    }
   ],
   "source": [
    "service=int(input(\"Enter service years\"))\n",
    "salary=float(input(\"Enter salary\"))\n",
    "if service>5:\n",
    "    salary=salary+(0.5*salary)\n",
    "print(salary)"
   ]
  },
  {
   "cell_type": "code",
   "execution_count": 5,
   "metadata": {},
   "outputs": [
    {
     "name": "stdout",
     "output_type": "stream",
     "text": [
      "3\n",
      "2\n"
     ]
    }
   ],
   "source": [
    "a=int(input())\n",
    "b=int(input())\n",
    "a,b=b,a\n",
    "print(a)\n",
    "print(b)"
   ]
  },
  {
   "cell_type": "code",
   "execution_count": 6,
   "metadata": {},
   "outputs": [
    {
     "name": "stdout",
     "output_type": "stream",
     "text": [
      "4 oldest\n",
      "2 youngest\n"
     ]
    }
   ],
   "source": [
    "age1=int(input(\"enter age1\"))\n",
    "age2=int(input(\"enter age2\"))\n",
    "age3=int(input(\"enter age3\"))\n",
    "if age1>age2 and age1>age3:\n",
    "    print(age1,\"oldest\")\n",
    "elif age2>age1 and age2>age3:\n",
    "    print(age2,\"oldest\")\n",
    "else:\n",
    "    print(age3,\"oldest\")\n",
    "if age1<age2 and age1<age3:\n",
    "    print(age1,\"youngest\")\n",
    "elif age2<age1 and age2<age3:\n",
    "    print(age2,\"youngest\")\n",
    "else:\n",
    "    print(age3,\"youngest\")"
   ]
  },
  {
   "cell_type": "code",
   "execution_count": 8,
   "metadata": {},
   "outputs": [
    {
     "name": "stdout",
     "output_type": "stream",
     "text": [
      "total classes 70\n",
      "classes attended 53\n",
      "eligible to take exams\n"
     ]
    }
   ],
   "source": [
    "total_classes=int(input(\"enter total classes held\"))\n",
    "classes_attended=int(input(\"enter classes attended\"))\n",
    "print(\"total classes\",total_classes)\n",
    "print(\"classes attended\",classes_attended)\n",
    "attendence=classes_attended/total_classes\n",
    "if(attendence>0.75):\n",
    "    print(\"eligible to take exams\")\n",
    "else:\n",
    "    print(\"not eligible to take classes\")\n",
    "  "
   ]
  },
  {
   "cell_type": "code",
   "execution_count": 4,
   "metadata": {},
   "outputs": [
    {
     "name": "stdout",
     "output_type": "stream",
     "text": [
      "3 prime number\n"
     ]
    }
   ],
   "source": [
    "num=int(input(\"enter number\"))\n",
    "if num>1:\n",
    "    for i in range(2,num):\n",
    "        if num%i==0:\n",
    "            print(num,\"not prime number\")\n",
    "            break\n",
    "        else:\n",
    "            print(num,\"prime number\")\n",
    "else:\n",
    "    print(\"not prime number\")"
   ]
  },
  {
   "cell_type": "code",
   "execution_count": 10,
   "metadata": {},
   "outputs": [
    {
     "name": "stdout",
     "output_type": "stream",
     "text": [
      "6\n"
     ]
    }
   ],
   "source": [
    "num=int(input())\n",
    "fact=1\n",
    "if num==0 or num==1:\n",
    "   print(\"1\")\n",
    "else:\n",
    "    for i in range(2,num+1):\n",
    "        fact=fact*i\n",
    "    print(fact)\n",
    "\n",
    "   "
   ]
  },
  {
   "cell_type": "code",
   "execution_count": 12,
   "metadata": {},
   "outputs": [
    {
     "name": "stdout",
     "output_type": "stream",
     "text": [
      "[2, 3, 5, 4]\n"
     ]
    }
   ],
   "source": [
    "list=list(map(int,input(\"enter elements\").split()))\n",
    "position1=int(input(\"enter pos of first element\"))\n",
    "position2=int(input(\"Enter pos 2\"))\n",
    "list[position1],list[position2]=list[position2],list[position1]\n",
    "print(list)\n"
   ]
  },
  {
   "cell_type": "code",
   "execution_count": 13,
   "metadata": {},
   "outputs": [
    {
     "name": "stdout",
     "output_type": "stream",
     "text": [
      "1\n"
     ]
    }
   ],
   "source": [
    "num=int(input(\"enter number\"))\n",
    "absolute_value=abs(num)\n",
    "print(absolute_value)"
   ]
  },
  {
   "cell_type": "code",
   "execution_count": 16,
   "metadata": {},
   "outputs": [
    {
     "name": "stdout",
     "output_type": "stream",
     "text": [
      "['apple', 'banana', 'car', 'dog']\n"
     ]
    }
   ],
   "source": [
    "dict={\n",
    "    \"apple\":1,\n",
    "    \"banana\":2,\n",
    "    \"dog\":3,\n",
    "    \"car\":4\n",
    "}\n",
    "print(sorted(dict))\n"
   ]
  },
  {
   "cell_type": "code",
   "execution_count": 20,
   "metadata": {},
   "outputs": [
    {
     "name": "stdout",
     "output_type": "stream",
     "text": [
      "{1: 1, 2: 4, 3: 9}\n"
     ]
    }
   ],
   "source": [
    "num=int(input(\"Enter number\"))\n",
    "dict={i:i*i for i in range(1,num+1)}\n",
    "print(dict)"
   ]
  },
  {
   "cell_type": "code",
   "execution_count": null,
   "metadata": {},
   "outputs": [
    {
     "name": "stdout",
     "output_type": "stream",
     "text": [
      "2\n"
     ]
    }
   ],
   "source": [
    "sentence=input(\"enter sentence\")\n",
    "words=sentence.split()\n",
    "count=0\n",
    "for word in words:\n",
    "    \n",
    "    if search_word==word:\n",
    "        count+=1\n",
    "print(count)\n"
   ]
  },
  {
   "cell_type": "code",
   "execution_count": 33,
   "metadata": {},
   "outputs": [
    {
     "name": "stdout",
     "output_type": "stream",
     "text": [
      "hiworld\n"
     ]
    }
   ],
   "source": [
    "encoded_string=input(\"enter encoded string\")\n",
    "decoded_string=\"\"\n",
    "for char in encoded_string:\n",
    "    if char.isalpha():\n",
    "        decoded_string+=char\n",
    "print(decoded_string)"
   ]
  },
  {
   "cell_type": "code",
   "execution_count": 34,
   "metadata": {},
   "outputs": [
    {
     "name": "stdout",
     "output_type": "stream",
     "text": [
      "{'M': 1, 'I': 4, 'S': 4, 'P': 2}\n"
     ]
    }
   ],
   "source": [
    "letter_count={}\n",
    "word=\"MISSISSIPPI\"\n",
    "letters=word.split()\n",
    "for letter in word:\n",
    "    if letter in letter_count:\n",
    "        letter_count[letter]+=1\n",
    "    else:\n",
    "        letter_count[letter]=1\n",
    "print(letter_count)\n",
    "    "
   ]
  },
  {
   "cell_type": "code",
   "execution_count": 46,
   "metadata": {},
   "outputs": [
    {
     "ename": "TypeError",
     "evalue": "'list' object is not callable",
     "output_type": "error",
     "traceback": [
      "\u001b[31m---------------------------------------------------------------------------\u001b[39m",
      "\u001b[31mTypeError\u001b[39m                                 Traceback (most recent call last)",
      "\u001b[36mCell\u001b[39m\u001b[36m \u001b[39m\u001b[32mIn[46]\u001b[39m\u001b[32m, line 1\u001b[39m\n\u001b[32m----> \u001b[39m\u001b[32m1\u001b[39m uhr = \u001b[38;5;28;43mlist\u001b[39;49m\u001b[43m(\u001b[49m\u001b[38;5;28;43mmap\u001b[39;49m\u001b[43m(\u001b[49m\u001b[38;5;28;43mint\u001b[39;49m\u001b[43m,\u001b[49m\u001b[43m \u001b[49m\u001b[38;5;28;43minput\u001b[39;49m\u001b[43m(\u001b[49m\u001b[33;43m\"\u001b[39;49m\u001b[33;43mEnter numbers separated by space: \u001b[39;49m\u001b[33;43m\"\u001b[39;49m\u001b[43m)\u001b[49m\u001b[43m.\u001b[49m\u001b[43msplit\u001b[49m\u001b[43m(\u001b[49m\u001b[43m)\u001b[49m\u001b[43m)\u001b[49m\u001b[43m)\u001b[49m\n\u001b[32m      2\u001b[39m search = \u001b[38;5;28mint\u001b[39m(\u001b[38;5;28minput\u001b[39m(\u001b[33m\"\u001b[39m\u001b[33mEnter number to be searched: \u001b[39m\u001b[33m\"\u001b[39m))\n\u001b[32m      3\u001b[39m \u001b[38;5;28;01mif\u001b[39;00m search \u001b[38;5;129;01min\u001b[39;00m uhr:\n",
      "\u001b[31mTypeError\u001b[39m: 'list' object is not callable"
     ]
    }
   ],
   "source": [
    "uhr = list(map(int, input(\"Enter numbers separated by space: \").split()))\n",
    "search = int(input(\"Enter number to be searched: \"))\n",
    "if search in uhr:\n",
    "    print(\"Element present\")\n",
    "else:\n",
    "    print(\"No\")\n"
   ]
  },
  {
   "cell_type": "code",
   "execution_count": 47,
   "metadata": {},
   "outputs": [
    {
     "name": "stdout",
     "output_type": "stream",
     "text": [
      "Enter 10 integers:\n",
      "The number is present in the list.\n"
     ]
    }
   ],
   "source": [
    "# Create an empty list to store 10 integers\n",
    "numbers = []\n",
    "\n",
    "# Take 10 integer inputs from the user\n",
    "print(\"Enter 10 integers:\")\n",
    "for i in range(10):\n",
    "    num = int(input(f\"Enter number {i+1}: \"))\n",
    "    numbers.append(num)\n",
    "\n",
    "# Ask the user for the number to search\n",
    "search = int(input(\"Enter a number to search: \"))\n",
    "\n",
    "# Check if the number is in the list\n",
    "if search in numbers:\n",
    "    print(\"The number is present in the list.\")\n",
    "else:\n",
    "    print(\"The number is NOT present in the list.\")\n"
   ]
  },
  {
   "cell_type": "code",
   "execution_count": 51,
   "metadata": {},
   "outputs": [
    {
     "name": "stdout",
     "output_type": "stream",
     "text": [
      "[33, 0, 9, 8, 7, 6, 5, 4, 3, 2]\n"
     ]
    }
   ],
   "source": [
    "num=[]\n",
    "num2=[]\n",
    "for i in range(10):\n",
    "    value=int(input(f\"enter number {i+1}\"))\n",
    "    num.append(value)\n",
    "num2=num[::-1]\n",
    "print(num2)"
   ]
  },
  {
   "cell_type": "code",
   "execution_count": 52,
   "metadata": {},
   "outputs": [
    {
     "name": "stdout",
     "output_type": "stream",
     "text": [
      "Decoded message: hiworld\n"
     ]
    }
   ],
   "source": [
    "import re\n",
    "\n",
    "def decode_message(encoded_string):\n",
    "    # Remove non-alphabet characters and spaces\n",
    "    decoded_string = re.sub(r'[^a-zA-Z]', '', encoded_string)\n",
    "    return decoded_string\n",
    "\n",
    "# Input from the user\n",
    "encoded_string = input(\"Enter the encoded message: \")\n",
    "\n",
    "# Decode and display the result\n",
    "decoded_message = decode_message(encoded_string)\n",
    "print(f\"Decoded message: {decoded_message}\")\n"
   ]
  },
  {
   "cell_type": "code",
   "execution_count": 56,
   "metadata": {},
   "outputs": [
    {
     "name": "stdout",
     "output_type": "stream",
     "text": [
      "no\n"
     ]
    }
   ],
   "source": [
    "year=int(input())\n",
    "if (year%4==0 and year%100!=0) or (year%400==0):\n",
    "    print(\"Leap year\")\n",
    "else:\n",
    "    print(\"no\")"
   ]
  },
  {
   "cell_type": "code",
   "execution_count": 59,
   "metadata": {},
   "outputs": [
    {
     "name": "stdout",
     "output_type": "stream",
     "text": [
      "hiworld\n"
     ]
    }
   ],
   "source": [
    "encoded_string=input()\n",
    "decoded_string=\"\"\n",
    "for char in encoded_string:\n",
    "    if char.isalpha():\n",
    "        decoded_string+=char\n",
    "print(decoded_string)"
   ]
  },
  {
   "cell_type": "code",
   "execution_count": 67,
   "metadata": {},
   "outputs": [
    {
     "name": "stdout",
     "output_type": "stream",
     "text": [
      "pallindrome\n"
     ]
    }
   ],
   "source": [
    "list1=input()\n",
    "list2=[]\n",
    "list2=list1[::-1]\n",
    "if list1==list2:\n",
    "    print(\"pallindrome\")\n",
    "else:\n",
    "    print(\"not pallindrome\")"
   ]
  },
  {
   "cell_type": "code",
   "execution_count": 69,
   "metadata": {},
   "outputs": [
    {
     "name": "stdout",
     "output_type": "stream",
     "text": [
      "hello WORLD\n"
     ]
    }
   ],
   "source": [
    "text=input()\n",
    "mid=len(text)//2\n",
    "result=text[:mid].lower()+text[mid:].upper()\n",
    "print(result)"
   ]
  },
  {
   "cell_type": "code",
   "execution_count": 70,
   "metadata": {},
   "outputs": [
    {
     "name": "stdout",
     "output_type": "stream",
     "text": [
      "89231518124\n"
     ]
    }
   ],
   "source": [
    "text=input()\n",
    "result=\"\"\n",
    "for char in text:\n",
    "    if char.isalpha():\n",
    "        num=ord(char.lower())-ord('a')+1\n",
    "        result+=str(num)+\"\"\n",
    "print(result.strip())"
   ]
  },
  {
   "cell_type": "code",
   "execution_count": 72,
   "metadata": {},
   "outputs": [
    {
     "name": "stdout",
     "output_type": "stream",
     "text": [
      "[2, 2, 3, 3, 7]\n"
     ]
    }
   ],
   "source": [
    "arr=[int(x) for x in input().split()]\n",
    "n=len(arr)\n",
    "for i in range(n):\n",
    "    for j in range(n-i-1):\n",
    "        if arr[j]>arr[j+1]:\n",
    "           arr[j],arr[j+1]=arr[j+1],arr[j]\n",
    "print(arr)"
   ]
  },
  {
   "cell_type": "code",
   "execution_count": 73,
   "metadata": {},
   "outputs": [
    {
     "name": "stdout",
     "output_type": "stream",
     "text": [
      "s\n"
     ]
    }
   ],
   "source": [
    "arr=[int(x) for x in input().split()]\n",
    "key=int(input())\n",
    "found=False\n",
    "for i in range(len(arr)):\n",
    "    if arr[i]==key:\n",
    "        found=True\n",
    "        break\n",
    "if found:\n",
    "    print(\"s\")\n",
    "else:\n",
    "    print(\"f\")"
   ]
  },
  {
   "cell_type": "code",
   "execution_count": 74,
   "metadata": {},
   "outputs": [
    {
     "name": "stdout",
     "output_type": "stream",
     "text": [
      "bug\n",
      "['bug bun bug bun bug bug', 'buggy bug bug buggy', 'bunny bug', 'no bun']\n"
     ]
    }
   ],
   "source": [
    "string1=[\"no bun\", \"bug bun bug bun bug bug\", \"bunny bug\", \"buggy bug bug buggy\"]\n",
    "search_string=input()\n",
    "sorted_string=sorted(string1,key=lambda s:s.count(search_string),reverse=True)\n",
    "print(\"{}\".format(search_string))\n",
    "print(sorted_string)"
   ]
  },
  {
   "cell_type": "code",
   "execution_count": 75,
   "metadata": {},
   "outputs": [
    {
     "name": "stdout",
     "output_type": "stream",
     "text": [
      "Updated list: [(10, 20, 100), (40, 50, 100), (70, 80, 100)]\n"
     ]
    }
   ],
   "source": [
    "# Sample list of tuples\n",
    "sample_list = [(10, 20, 40), (40, 50, 60), (70, 80, 90)]\n",
    "\n",
    "# New value to replace the last element in each tuple\n",
    "new_value = 100\n",
    "\n",
    "# Create a new list with updated tuples\n",
    "updated_list = [t[:-1] + (new_value,) for t in sample_list]\n",
    "\n",
    "# Print the updated list\n",
    "print(\"Updated list:\", updated_list)\n"
   ]
  },
  {
   "cell_type": "code",
   "execution_count": 2,
   "metadata": {},
   "outputs": [
    {
     "name": "stdout",
     "output_type": "stream",
     "text": [
      "'fox' found at position 16.\n"
     ]
    }
   ],
   "source": [
    "# Input string (can be fixed or user input)\n",
    "text = \"The quick brown fox jumps over the lazy dog.\"\n",
    "\n",
    "# Input search pattern (can also be a list if needed)\n",
    "search = input(\"Enter the word or phrase to search: \")\n",
    "\n",
    "# Search the pattern in the text\n",
    "index = text.find(search)\n",
    "\n",
    "# Check if found\n",
    "if index != -1:\n",
    "    print(f\"'{search}' found at position {index}.\")\n",
    "else:\n",
    "    print(f\"'{search}' not found in the text.\")\n"
   ]
  },
  {
   "cell_type": "code",
   "execution_count": null,
   "metadata": {},
   "outputs": [],
   "source": []
  }
 ],
 "metadata": {
  "kernelspec": {
   "display_name": "Python 3",
   "language": "python",
   "name": "python3"
  },
  "language_info": {
   "codemirror_mode": {
    "name": "ipython",
    "version": 3
   },
   "file_extension": ".py",
   "mimetype": "text/x-python",
   "name": "python",
   "nbconvert_exporter": "python",
   "pygments_lexer": "ipython3",
   "version": "3.11.9"
  }
 },
 "nbformat": 4,
 "nbformat_minor": 2
}
